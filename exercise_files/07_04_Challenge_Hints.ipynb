{
 "cells": [
  {
   "cell_type": "markdown",
   "id": "dda9c8c6",
   "metadata": {},
   "source": [
    "## Shaping Up"
   ]
  },
  {
   "cell_type": "markdown",
   "id": "f4a633c4",
   "metadata": {},
   "source": [
    "**Hint 1:** \n",
    "In the square class, the printRow function takes in an argument i, which is not used. What happens if you actually use this argument?"
   ]
  },
  {
   "cell_type": "markdown",
   "id": "0a4e8a12",
   "metadata": {},
   "source": [
    "**Hint 2:** Triangles are small at the top and big at the bottom! (Huge help, I know.) \n",
    "\n",
    "But think about it. How can you use the variable i to print out something small at the top and big at the bottom? Or, heck, make an upside-down triangle! Print out something big at the top and small at the bottom. "
   ]
  },
  {
   "cell_type": "markdown",
   "id": "caac582f-6c5b-458f-80e2-7583b67a0afa",
   "metadata": {},
   "source": [
    "# Challenge"
   ]
  },
  {
   "cell_type": "markdown",
   "id": "636370d0-af3c-4eb9-96d6-2286b6de99da",
   "metadata": {},
   "source": [
    "## Drawing shapes\n",
    "You're provided with a base ```Shape``` class, and a ```Square``` class wich extends it. you can see how the ```Square``` class works by modifying the test code:\n",
    "```\n",
    "s = Answer.Square()\n",
    "s.print()\n",
    "```\n",
    "\n",
    "The output is an ASCII art square:\n",
    "```\n",
    "#####\n",
    "#####\n",
    "#####\n",
    "#####\n",
    "#####\n",
    "```\n",
    "\n",
    "## Your task\n",
    "Fill in the ```class Triangle``` to print a triangle to the console. Con you print a right-angle triangle? How about an equilateral (or, equilateral-ish) triangle?\n",
    "\n",
    "Try modifying the height and width of your triangle as well. Feel free to change how the base class is called! For example, you may want to make height and width instance attributes on the base class."
   ]
  },
  {
   "cell_type": "markdown",
   "id": "8df3544a-0daf-4671-b1fc-65834cba6987",
   "metadata": {},
   "source": [
    "## Code by me"
   ]
  },
  {
   "cell_type": "code",
   "execution_count": 92,
   "id": "9563cae1-353b-4b53-83f0-fb54cd649058",
   "metadata": {},
   "outputs": [],
   "source": [
    "# Python code below\n",
    "class Shape:\n",
    "\twidth = 5\n",
    "\theight = 5\n",
    "\tprintChar = '#'\n",
    "\n",
    "\tdef printRow(self, i):\n",
    "\t\traise NotImplementedError(\"Will be implemented by children extending this class\")\n",
    "\n",
    "\tdef print(self):\n",
    "\t\tfor i in range(self.height):\n",
    "\t\t\tself.printRow(i)\n",
    "\n",
    "\n",
    "class Square(Shape):\n",
    "\tdef printRow(self, i):\n",
    "\t\tprint(self.printChar * self.width)\n",
    "\n",
    "class Triangle(Shape):\n",
    "\tdef printRow(self, i):\n",
    "\t\tprint(' ' * (self.width-i)+self.printChar * (i+1))"
   ]
  },
  {
   "cell_type": "markdown",
   "id": "994ef4f0-824c-40af-9a32-03828be0f779",
   "metadata": {},
   "source": [
    "## Code by Instructor"
   ]
  },
  {
   "cell_type": "code",
   "execution_count": 3,
   "id": "60d3d2f1-60ee-41d6-b0b0-b77fa9b35071",
   "metadata": {},
   "outputs": [],
   "source": [
    "class Shape:\n",
    "\twidth = 5\n",
    "\theight = 5\n",
    "\tprintChar = '#'\n",
    "\n",
    "\tdef printRow(self, i):\n",
    "\t\traise NotImplementedError(\"Will be implemented by children extending this class\")\n",
    "\n",
    "\tdef print(self):\n",
    "\t\tfor i in range(self.height):\n",
    "\t\t\tself.printRow(i)\n",
    "\n",
    "\n",
    "class Square(Shape):\n",
    "\tdef printRow(self, i):\n",
    "\t\tprint(self.printChar * self.width)\n",
    "\n",
    "class Triangle(Shape):\n",
    "    def printRow(self, i):\n",
    "        print(self.printChar*(i + 1))"
   ]
  },
  {
   "cell_type": "code",
   "execution_count": 10,
   "id": "6a69d955-c0df-4d2c-8081-e2b0c4a13a2f",
   "metadata": {},
   "outputs": [],
   "source": [
    "class Shape:\n",
    "\twidth = 5\n",
    "\theight = 5\n",
    "\tprintChar = '#'\n",
    "\n",
    "\tdef printRow(self, i):\n",
    "\t\traise NotImplementedError(\"Will be implemented by children extending this class\")\n",
    "\n",
    "\tdef print(self):\n",
    "\t\tfor i in range(self.height):\n",
    "\t\t\tself.printRow(i)\n",
    "\n",
    "\n",
    "class Square(Shape):\n",
    "\tdef printRow(self, i):\n",
    "\t\tprint(self.printChar * self.width)\n",
    "\n",
    "class Triangle(Shape):\n",
    "    height = 5\n",
    "    width = int(2*height)\n",
    "\n",
    "    def printRow(self, i):\n",
    "        triangleWidth = i*2 + 1\n",
    "        padding = int((self.width - triangleWidth)/2)\n",
    "        print(' '*padding + self.printChar*triangleWidth)"
   ]
  },
  {
   "cell_type": "markdown",
   "id": "ec660573-2f58-412c-af0b-056718f225a7",
   "metadata": {},
   "source": [
    "## Answer"
   ]
  },
  {
   "cell_type": "code",
   "execution_count": 11,
   "id": "ca0f5d6b-b997-47a4-9010-a2678155fcef",
   "metadata": {},
   "outputs": [
    {
     "name": "stdout",
     "output_type": "stream",
     "text": [
      "    #\n",
      "   ###\n",
      "  #####\n",
      " #######\n",
      "#########\n"
     ]
    }
   ],
   "source": [
    "# This is how your code will be called.\n",
    "# Your answer should be the largest value in the numbers list.\n",
    "# You can edit this code to try different testing cases.\n",
    "t = Triangle()\n",
    "t.print()"
   ]
  },
  {
   "cell_type": "code",
   "execution_count": null,
   "id": "05145c4f-37f0-4203-ad0a-00cc01f91767",
   "metadata": {},
   "outputs": [],
   "source": []
  }
 ],
 "metadata": {
  "kernelspec": {
   "display_name": "Python 3 (ipykernel)",
   "language": "python",
   "name": "python3"
  },
  "language_info": {
   "codemirror_mode": {
    "name": "ipython",
    "version": 3
   },
   "file_extension": ".py",
   "mimetype": "text/x-python",
   "name": "python",
   "nbconvert_exporter": "python",
   "pygments_lexer": "ipython3",
   "version": "3.12.3"
  },
  "vscode": {
   "interpreter": {
    "hash": "949777d72b0d2535278d3dc13498b2535136f6dfe0678499012e853ee9abcab1"
   }
  }
 },
 "nbformat": 4,
 "nbformat_minor": 5
}
