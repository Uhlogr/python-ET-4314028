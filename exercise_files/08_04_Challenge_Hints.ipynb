{
 "cells": [
  {
   "cell_type": "markdown",
   "id": "5493bdf7",
   "metadata": {},
   "source": [
    "## Bad Arguments\n"
   ]
  },
  {
   "cell_type": "markdown",
   "id": "7e61d190",
   "metadata": {},
   "source": [
    "### Challenge Hints!\n",
    "\n",
    "**HINT 1:** To be clear, you do need to write your NonIntArgumentException class. I suggest something like:"
   ]
  },
  {
   "cell_type": "code",
   "execution_count": 1,
   "id": "0a0528dc",
   "metadata": {},
   "outputs": [],
   "source": [
    "class NonIntArgumentException(Exception):\n",
    "    pass"
   ]
  },
  {
   "cell_type": "markdown",
   "id": "32f67063",
   "metadata": {},
   "source": [
    "**HINT 2:** Review the example we used in 08_02_HandlingException.ipynb (copied below). How would you modify this to examine the arguments (args) passed into the function before calling the function? \n"
   ]
  },
  {
   "cell_type": "code",
   "execution_count": 2,
   "id": "23429ac0-a013-4d76-aec7-7f069e66bc9d",
   "metadata": {},
   "outputs": [
    {
     "name": "stdout",
     "output_type": "stream",
     "text": [
      "There was a zero division error!\n"
     ]
    }
   ],
   "source": [
    "def handleException(func):\n",
    "    def wrapper(*args):\n",
    "        try:\n",
    "            func(*args)\n",
    "        except TypeError:\n",
    "            print('There was a type error!')\n",
    "        except ZeroDivisionError:\n",
    "            print('There was a zero division error!')\n",
    "        except Exception:\n",
    "            print('There was some sort of error!')\n",
    "    return wrapper\n",
    "\n",
    "@handleException\n",
    "def causeError():\n",
    "    return 1/0\n",
    "\n",
    "causeError()"
   ]
  },
  {
   "cell_type": "markdown",
   "id": "db53f14d",
   "metadata": {},
   "source": [
    "**Hint 3:** Remember that args is just an iterable tuple of arguments. You can examine them like this:"
   ]
  },
  {
   "cell_type": "code",
   "execution_count": 5,
   "id": "e80893e9",
   "metadata": {},
   "outputs": [
    {
     "name": "stdout",
     "output_type": "stream",
     "text": [
      "a is not not an integer!\n"
     ]
    }
   ],
   "source": [
    "args = (1, 2, 3, 'a')\n",
    "\n",
    "for arg in args: \n",
    "    if type(arg) is not int:\n",
    "        print(f'{arg} is not not an integer!')"
   ]
  },
  {
   "cell_type": "markdown",
   "id": "fdd22844-8326-4f4c-8aec-d7fc4d85086e",
   "metadata": {},
   "source": [
    "# Challenge"
   ]
  },
  {
   "cell_type": "markdown",
   "id": "479e7fdc-acba-4a78-962c-7076f76fe199",
   "metadata": {},
   "source": [
    "## Instructions\n",
    "### Write a custom annotation that handles bad arguments\n",
    "There are many ways to detect situations in which errors should be raised, and then raise them. Here, you can fill in a custom annotation called ```handleNonIntArguments``` that raises a custom exception called ```NonIntArgumentException``` if any of the arguments passed to a function are non intergers.\n",
    "\n",
    "#### Your task\n",
    "* Create a custom exception called ```NonIntArgumentException```\n",
    "* Fill in the wrapper function in the ```handleNonIntArguments``` function to act as an annotation.\n",
    "* Check the test code to make sure you understand how this annotation is being used\n",
    "### Parameters\n",
    "```func```: The function that will be called with arguments. In this case, the function in the test code is ```sum```.\\\n",
    "```*args```: The arguments that will be passed to ```func```. Remember that ```args``` alone, without the asterisk, is a tuple of values.\n",
    "### Result\n",
    "Make sure that your wrapper actually returns the result of the function that's being called.\n",
    "### Example 1\n",
    "Input to sum: ```1, 2, 3```\\\n",
    "Result: ```6```\n",
    "### Example 2\n",
    "Input to sum: ```1.5, 'foo', 3```\\\n",
    "Result: ```NonIntArgumentException```"
   ]
  },
  {
   "cell_type": "markdown",
   "id": "2791fb9d-0ead-44fe-8ad6-2245334d8c40",
   "metadata": {},
   "source": [
    "# Code"
   ]
  },
  {
   "cell_type": "code",
   "execution_count": 1,
   "id": "b789700d-9768-48c2-aaf2-faf73ec76407",
   "metadata": {},
   "outputs": [],
   "source": [
    "class NonIntArgumentException(Exception):\n",
    "    pass\n",
    "\n",
    "# Python code below\n",
    "def handleNonIntArguments(func):\n",
    "    def wrapper(*args):\n",
    "        for arg in args: \n",
    "            if type(arg) is not int:\n",
    "                raise NonIntArgumentException()\n",
    "        return func(*args)\n",
    "    return wrapper"
   ]
  },
  {
   "cell_type": "markdown",
   "id": "f798d1df-c096-45c2-a919-585d4f0218b8",
   "metadata": {},
   "source": [
    "# Test code"
   ]
  },
  {
   "cell_type": "code",
   "execution_count": 2,
   "id": "0c599bbf-bea6-4250-9412-7985610fdbfc",
   "metadata": {},
   "outputs": [
    {
     "name": "stdout",
     "output_type": "stream",
     "text": [
      "Hooray!\n"
     ]
    }
   ],
   "source": [
    "# This is how your code will be called.\n",
    "# Your answer should be the largest value in the numbers list.\n",
    "# You can edit this code to try different testing cases.\n",
    "\n",
    "@handleNonIntArguments\n",
    "def sum(a, b, c):\n",
    "    return a + b + c\n",
    "\n",
    "try:\n",
    "    result = sum(1, 2, 'a')\n",
    "    print('This should not print out')\n",
    "except NonIntArgumentException as e:\n",
    "    print('Hooray!')\n"
   ]
  },
  {
   "cell_type": "code",
   "execution_count": null,
   "id": "7e4d811b-388f-47e9-b26b-4c6b0e7550e5",
   "metadata": {},
   "outputs": [],
   "source": []
  }
 ],
 "metadata": {
  "kernelspec": {
   "display_name": "Python 3 (ipykernel)",
   "language": "python",
   "name": "python3"
  },
  "language_info": {
   "codemirror_mode": {
    "name": "ipython",
    "version": 3
   },
   "file_extension": ".py",
   "mimetype": "text/x-python",
   "name": "python",
   "nbconvert_exporter": "python",
   "pygments_lexer": "ipython3",
   "version": "3.12.3"
  },
  "vscode": {
   "interpreter": {
    "hash": "949777d72b0d2535278d3dc13498b2535136f6dfe0678499012e853ee9abcab1"
   }
  }
 },
 "nbformat": 4,
 "nbformat_minor": 5
}
